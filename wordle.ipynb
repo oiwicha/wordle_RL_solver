{
 "cells": [
  {
   "cell_type": "code",
   "execution_count": null,
   "id": "7891a211",
   "metadata": {},
   "outputs": [
    {
     "name": "stdout",
     "output_type": "stream",
     "text": [
      "    word  word_len\n",
      "0      a         1\n",
      "1     aa         2\n",
      "2    aaa         3\n",
      "3    aah         3\n",
      "4  aahed         5\n"
     ]
    }
   ],
   "source": [
    "# read a csv containing dataset of english words\n",
    "# this csv file should be in my digminecraftstyle account\n",
    "import pandas as pd\n",
    "url='https://drive.google.com/file/d/1cfTcFhIVL4JHfHeNGkLcuMAUhFKjPpRx/view?usp=sharing' #PASTE THE URL TO THE PUBLICLY SHARED CSV FILE HERE\n",
    "url='https://drive.google.com/uc?id=' + url.split('/')[-2]\n",
    "\n",
    "try:\n",
    "    words = pd.read_csv(url, header=None, names=['word']) # Attempt to read the CSV file with default encoding\n",
    "except:\n",
    "    words = pd.read_csv(url, encoding='ISO-8859-1', header=None, names=['word'])  # Fallback encoding if the default fails    \n",
    "\n",
    "words['word_len'] = words['word'].str.len() # Calculate the length of each word\n",
    "words = words.dropna()\n",
    "words['word_len'] = words['word_len'].astype(int)  # Convert word length to int\n",
    "# convert words['word_len'] to int\n",
    "print(words.head())"
   ]
  },
  {
   "cell_type": "code",
   "execution_count": 2,
   "id": "4517cb3e",
   "metadata": {},
   "outputs": [
    {
     "name": "stdout",
     "output_type": "stream",
     "text": [
      "15920\n",
      "         word  word_len\n",
      "324505  tirer         5\n",
      "279904  scaup         5\n",
      "196418  nabby         5\n",
      "229572  pends         5\n",
      "160130  jahve         5\n",
      "107946  expos         5\n",
      "176373  luser         5\n",
      "192064  monks         5\n",
      "194792  muggy         5\n",
      "128073  gored         5\n"
     ]
    }
   ],
   "source": [
    "# getting all 5-letter words\n",
    "\n",
    "words_5letter = words[words['word_len'] == 5]\n",
    "print(len(words_5letter))\n",
    "print(words_5letter.sample(10))"
   ]
  },
  {
   "cell_type": "code",
   "execution_count": null,
   "id": "a71d1170",
   "metadata": {},
   "outputs": [
    {
     "name": "stdout",
     "output_type": "stream",
     "text": [
      "39933\n",
      "       Rank   word       count  word_len\n",
      "0        36  about  1226734006         5\n",
      "1        46  other   978481319         5\n",
      "2        57  which   810514085         5\n",
      "3        58  their   782849411         5\n",
      "4        63  there   701170205         5\n",
      "...     ...    ...         ...       ...\n",
      "5995  51197  fripp      319829         5\n",
      "5996  51203  duped      319795         5\n",
      "5997  51205  nigra      319754         5\n",
      "5998  51222  habbo      319599         5\n",
      "5999  51225  rumps      319557         5\n",
      "\n",
      "[6000 rows x 4 columns]\n"
     ]
    }
   ],
   "source": [
    "# getting word frequency from csv file\n",
    "# this csv file should be in my digminecraftstyle account\n",
    "url2='https://drive.google.com/file/d/1rUk15edYjljHzYuKEq3Kdl9znVjaW_GV/view?usp=sharing' #PASTE THE URL TO THE PUBLICLY SHARED CSV FILE HERE\n",
    "url2='https://drive.google.com/uc?id=' + url2.split('/')[-2]\n",
    "\n",
    "try:\n",
    "    word_frequency = pd.read_csv(url2) # Attempt to read the CSV file with default encoding\n",
    "except:\n",
    "    word_frequency = pd.read_csv(url2, encoding='ISO-8859-1')  # Fallback encoding if the default fails  \n",
    "\n",
    "# getting all 5-letter words from word frequency\n",
    "word_frequency_5letter = word_frequency[word_frequency['word_len'] == 5]\n",
    "word_frequency_5letter.reset_index(drop=True, inplace=True)  # Reset index after filtering\n",
    "print(len(word_frequency_5letter))\n",
    "print(word_frequency_5letter.head(6000))"
   ]
  },
  {
   "cell_type": "code",
   "execution_count": 4,
   "id": "9bb5e223",
   "metadata": {},
   "outputs": [
    {
     "name": "stdout",
     "output_type": "stream",
     "text": [
      "       Rank   word       count  word_len  in_words_5letter\n",
      "0        36  about  1226734006         5              True\n",
      "1        46  other   978481319         5              True\n",
      "2        57  which   810514085         5              True\n",
      "3        58  their   782849411         5              True\n",
      "4        63  there   701170205         5              True\n",
      "...     ...    ...         ...       ...               ...\n",
      "5995  51197  fripp      319829         5             False\n",
      "5996  51203  duped      319795         5              True\n",
      "5997  51205  nigra      319754         5             False\n",
      "5998  51222  habbo      319599         5             False\n",
      "5999  51225  rumps      319557         5              True\n",
      "\n",
      "[6000 rows x 5 columns]\n"
     ]
    },
    {
     "name": "stderr",
     "output_type": "stream",
     "text": [
      "C:\\Users\\ongch\\AppData\\Local\\Temp\\ipykernel_51732\\440068594.py:3: SettingWithCopyWarning: \n",
      "A value is trying to be set on a copy of a slice from a DataFrame.\n",
      "Try using .loc[row_indexer,col_indexer] = value instead\n",
      "\n",
      "See the caveats in the documentation: https://pandas.pydata.org/pandas-docs/stable/user_guide/indexing.html#returning-a-view-versus-a-copy\n",
      "  word_frequency_5letter['in_words_5letter'] = word_frequency_5letter['word'].isin(words_5letter['word'].values)\n"
     ]
    }
   ],
   "source": [
    "# ensuring word_frequency_5letter is in words_5letter\n",
    "\n",
    "word_frequency_5letter['in_words_5letter'] = word_frequency_5letter['word'].isin(words_5letter['word'].values)\n",
    "print(word_frequency_5letter.head(6000))"
   ]
  },
  {
   "cell_type": "code",
   "execution_count": 5,
   "id": "35031fcd",
   "metadata": {},
   "outputs": [
    {
     "name": "stdout",
     "output_type": "stream",
     "text": [
      "      Rank   word       count  word_len  in_words_5letter\n",
      "0        1  about  1226734006         5              True\n",
      "1        2  other   978481319         5              True\n",
      "2        3  which   810514085         5              True\n",
      "3        4  their   782849411         5              True\n",
      "4        5  there   701170205         5              True\n",
      "...    ...    ...         ...       ...               ...\n",
      "3995  3996  glebe      371095         5              True\n",
      "3996  3997  motte      371048         5              True\n",
      "3997  3998  volga      371044         5              True\n",
      "3998  3999  brews      369926         5              True\n",
      "3999  4000  hamel      369886         5              True\n",
      "\n",
      "[4000 rows x 5 columns]\n"
     ]
    }
   ],
   "source": [
    "word_frequency_5letter_filtered = word_frequency_5letter[word_frequency_5letter['in_words_5letter'] == True]\n",
    "word_frequency_5letter_filtered.reset_index(drop=True, inplace=True)\n",
    "word_frequency_5letter_filtered = word_frequency_5letter_filtered.head(4000)\n",
    "word_frequency_5letter_filtered['Rank'] = word_frequency_5letter_filtered.index + 1\n",
    "print(word_frequency_5letter_filtered)"
   ]
  },
  {
   "cell_type": "code",
   "execution_count": 6,
   "id": "2865c073",
   "metadata": {},
   "outputs": [
    {
     "name": "stdout",
     "output_type": "stream",
     "text": [
      "Area under the curve: 0.999750062484379\n",
      "0.9999999999999977\n"
     ]
    },
    {
     "name": "stderr",
     "output_type": "stream",
     "text": [
      "C:\\Users\\ongch\\AppData\\Local\\Temp\\ipykernel_51732\\1125179816.py:12: DeprecationWarning: `trapz` is deprecated. Use `trapezoid` instead, or one of the numerical integration functions in `scipy.integrate`.\n",
      "  area = np.trapz(y, x)\n"
     ]
    },
    {
     "data": {
      "image/png": "[encoded data removed]",
      "text/plain": [
       "<Figure size 640x480 with 1 Axes>"
      ]
     },
     "metadata": {},
     "output_type": "display_data"
    }
   ],
   "source": [
    "# creating a probability distribution for the first 3000 words\n",
    "\n",
    "import matplotlib.pyplot as plt\n",
    "import numpy as np\n",
    "\n",
    "x = np.arange(0,4001)\n",
    "y= np.cos(((1/4000)*np.pi*x))/4000 + (1/4000)\n",
    "y = y/y.sum()\n",
    "\n",
    "plt.plot(x, y, label='Cosine Wave')\n",
    "plt.axhline(y=1/4000, color='red', linestyle='--', label='y = 1/3000')\n",
    "area = np.trapz(y, x)\n",
    "print(\"Area under the curve:\", area)\n",
    "print(sum(y))"
   ]
  },
  {
   "cell_type": "code",
   "execution_count": 7,
   "id": "b7f6b137",
   "metadata": {},
   "outputs": [
    {
     "name": "stdout",
     "output_type": "stream",
     "text": [
      "4000\n",
      "1.0\n",
      "4000\n",
      "      Rank   word       count  word_len  in_words_5letter   Probability\n",
      "0        1  about  1226734006         5              True  4.998750e-04\n",
      "1        2  other   978481319         5              True  4.998750e-04\n",
      "2        3  which   810514085         5              True  4.998747e-04\n",
      "3        4  their   782849411         5              True  4.998743e-04\n",
      "4        5  there   701170205         5              True  4.998738e-04\n",
      "...    ...    ...         ...       ...               ...           ...\n",
      "3995  3996  glebe      371095         5              True  1.927173e-09\n",
      "3996  3997  motte      371048         5              True  1.233391e-09\n",
      "3997  3998  volga      371044         5              True  6.937828e-10\n",
      "3998  3999  brews      369926         5              True  3.083480e-10\n",
      "3999  4000  hamel      369886         5              True  7.708701e-11\n",
      "\n",
      "[4000 rows x 6 columns]\n"
     ]
    }
   ],
   "source": [
    "# assigning probability to the word_frequency_5letter_filtered dataframe\n",
    "print(len(word_frequency_5letter_filtered))\n",
    "y = y[:4000]\n",
    "print(y.sum())\n",
    "print(len(y))\n",
    "word_frequency_5letter_filtered['Probability'] = y\n",
    "print(word_frequency_5letter_filtered)"
   ]
  },
  {
   "cell_type": "code",
   "execution_count": 8,
   "id": "62762968",
   "metadata": {},
   "outputs": [
    {
     "name": "stdout",
     "output_type": "stream",
     "text": [
      "['wills']\n"
     ]
    }
   ],
   "source": [
    "# random choice of a 5-letter words according to their probabilities\n",
    "\n",
    "print(str(np.random.choice(word_frequency_5letter_filtered['word'].values, p=y, size=1)))"
   ]
  },
  {
   "cell_type": "code",
   "execution_count": 9,
   "id": "f2ec7180",
   "metadata": {},
   "outputs": [
    {
     "name": "stdout",
     "output_type": "stream",
     "text": [
      "Target word: dummy\n"
     ]
    }
   ],
   "source": [
    "# get target answer\n",
    "\n",
    "target = str(np.random.choice(word_frequency_5letter_filtered['word'].values, p=y, size=1)[0])\n",
    "print(\"Target word:\", target)\n"
   ]
  },
  {
   "cell_type": "code",
   "execution_count": 10,
   "id": "c33e4587",
   "metadata": {},
   "outputs": [
    {
     "name": "stdout",
     "output_type": "stream",
     "text": [
      "['D' 'U' 'M' 'M' 'Y']\n"
     ]
    }
   ],
   "source": [
    "# get target answer as an array\n",
    "\n",
    "target_array = np.array(list(str.upper(target)))\n",
    "print(target_array)"
   ]
  },
  {
   "cell_type": "code",
   "execution_count": 11,
   "id": "c5340bf5",
   "metadata": {},
   "outputs": [
    {
     "name": "stdout",
     "output_type": "stream",
     "text": [
      "Round 1 of 5\n",
      "Possible letters: ['A' 'B' 'C' 'D' 'E' 'F' 'G' 'H' 'I' 'J' 'K' 'L' 'M' 'N' 'O' 'P' 'Q' 'R'\n",
      " 'S' 'T' 'U' 'V' 'W' 'X' 'Y' 'Z']\n",
      "[]\n",
      "Invalid input. Please enter a valid 5-letter word.\n",
      "Round 1 of 5\n",
      "Possible letters: ['A' 'B' 'C' 'D' 'E' 'F' 'G' 'H' 'I' 'J' 'K' 'L' 'M' 'N' 'O' 'P' 'Q' 'R'\n",
      " 'S' 'T' 'U' 'V' 'W' 'X' 'Y' 'Z']\n",
      "['D' 'U' 'M' 'M' 'Y']\n",
      "['O' 'O' 'O' 'O' 'O']\n",
      "Congratulations! You've guessed the word: dummy\n"
     ]
    }
   ],
   "source": [
    "# getting user input as array\n",
    "possible_letters = np.array(list('ABCDEFGHIJKLMNOPQRSTUVWXYZ'))\n",
    "round = 0\n",
    "while round < 5:\n",
    "\n",
    "    print(f\"Round {round + 1} of 5\")\n",
    "    print(\"Possible letters:\", possible_letters)\n",
    "\n",
    "    user_input = input(\"Enter your guess: \")\n",
    "\n",
    "\n",
    "    if user_input.lower() not in word_frequency_5letter_filtered['word'].values:\n",
    "        print(np.array(list(str.upper(user_input))))\n",
    "        print(\"Invalid input. Please enter a valid 5-letter word.\")\n",
    "    else:\n",
    "        user_input_array = np.array(list(str.upper(user_input)))\n",
    "        print(user_input_array)\n",
    "        # compare user input with target answer\n",
    "        checker = np.zeros(5, dtype=str)\n",
    "        for i in range(5):\n",
    "            if user_input_array[i] == target_array[i]:\n",
    "                checker[i] = 'O'\n",
    "            elif user_input_array[i] in target_array:\n",
    "                checker[i] = '?'\n",
    "            else:\n",
    "                checker[i] = 'X'\n",
    "                possible_letters = possible_letters[possible_letters != user_input_array[i]]\n",
    "        print(checker)\n",
    "        if np.array_equal(user_input_array, target_array):\n",
    "            print(\"Congratulations! You've guessed the word:\", target)\n",
    "            break\n",
    "        else:\n",
    "            round += 1\n",
    "\n",
    "if round ==5:\n",
    "    print(\"Game over! The target word was:\", target)\n"
   ]
  }
 ],
 "metadata": {
  "kernelspec": {
   "display_name": "base",
   "language": "python",
   "name": "python3"
  },
  "language_info": {
   "codemirror_mode": {
    "name": "ipython",
    "version": 3
   },
   "file_extension": ".py",
   "mimetype": "text/x-python",
   "name": "python",
   "nbconvert_exporter": "python",
   "pygments_lexer": "ipython3",
   "version": "3.13.5"
  }
 },
 "nbformat": 4,
 "nbformat_minor": 5
}
